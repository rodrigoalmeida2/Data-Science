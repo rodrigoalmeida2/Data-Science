{
 "cells": [
  {
   "cell_type": "code",
   "execution_count": 7,
   "id": "2fcf2f82",
   "metadata": {},
   "outputs": [
    {
     "name": "stdout",
     "output_type": "stream",
     "text": [
      "Verificar numeros primos ate: 2\n",
      "É primo\n"
     ]
    }
   ],
   "source": [
    "n = int(input(\"Verificar numeros primos ate: \"))\n",
    "mult=0\n",
    "\n",
    "for count in range(2,n):\n",
    "    if (n % count == 0):\n",
    "        print(\"Múltiplo de\",count)\n",
    "        mult += 1\n",
    "\n",
    "if(mult==0):\n",
    "    print(\"É primo\")\n",
    "else:\n",
    "    print(\"é par\")\n"
   ]
  },
  {
   "cell_type": "code",
   "execution_count": null,
   "id": "686eeee7",
   "metadata": {},
   "outputs": [],
   "source": []
  }
 ],
 "metadata": {
  "kernelspec": {
   "display_name": "Python 3 (ipykernel)",
   "language": "python",
   "name": "python3"
  },
  "language_info": {
   "codemirror_mode": {
    "name": "ipython",
    "version": 3
   },
   "file_extension": ".py",
   "mimetype": "text/x-python",
   "name": "python",
   "nbconvert_exporter": "python",
   "pygments_lexer": "ipython3",
   "version": "3.9.13"
  }
 },
 "nbformat": 4,
 "nbformat_minor": 5
}
