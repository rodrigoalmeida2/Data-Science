{
 "cells": [
  {
   "cell_type": "markdown",
   "id": "c23eba8a",
   "metadata": {},
   "source": [
    "# Relatório de Análise VII"
   ]
  },
  {
   "cell_type": "markdown",
   "id": "6d9accc3",
   "metadata": {},
   "source": [
    "## Criando Agrupamentos"
   ]
  },
  {
   "cell_type": "code",
   "execution_count": 28,
   "id": "a3e02ec3",
   "metadata": {},
   "outputs": [],
   "source": [
    "import pandas as pd"
   ]
  },
  {
   "cell_type": "code",
   "execution_count": 29,
   "id": "a3fd34f4",
   "metadata": {},
   "outputs": [],
   "source": [
    "dados = pd.read_csv('dados/aluguel_residencial.csv', sep=';')"
   ]
  },
  {
   "cell_type": "code",
   "execution_count": 30,
   "id": "19ae555e",
   "metadata": {},
   "outputs": [
    {
     "data": {
      "text/html": [
       "<div>\n",
       "<style scoped>\n",
       "    .dataframe tbody tr th:only-of-type {\n",
       "        vertical-align: middle;\n",
       "    }\n",
       "\n",
       "    .dataframe tbody tr th {\n",
       "        vertical-align: top;\n",
       "    }\n",
       "\n",
       "    .dataframe thead th {\n",
       "        text-align: right;\n",
       "    }\n",
       "</style>\n",
       "<table border=\"1\" class=\"dataframe\">\n",
       "  <thead>\n",
       "    <tr style=\"text-align: right;\">\n",
       "      <th></th>\n",
       "      <th>Tipo</th>\n",
       "      <th>Bairro</th>\n",
       "      <th>Quartos</th>\n",
       "      <th>Vagas</th>\n",
       "      <th>Suites</th>\n",
       "      <th>Area</th>\n",
       "      <th>Valor</th>\n",
       "      <th>Condominio</th>\n",
       "      <th>IPTU</th>\n",
       "      <th>Valor m2</th>\n",
       "      <th>Tipo Agregado</th>\n",
       "    </tr>\n",
       "  </thead>\n",
       "  <tbody>\n",
       "    <tr>\n",
       "      <th>0</th>\n",
       "      <td>Quitinete</td>\n",
       "      <td>Copacabana</td>\n",
       "      <td>1</td>\n",
       "      <td>0</td>\n",
       "      <td>0</td>\n",
       "      <td>40</td>\n",
       "      <td>1700.0</td>\n",
       "      <td>500.0</td>\n",
       "      <td>60.0</td>\n",
       "      <td>42.50</td>\n",
       "      <td>Apartamento</td>\n",
       "    </tr>\n",
       "    <tr>\n",
       "      <th>1</th>\n",
       "      <td>Apartamento</td>\n",
       "      <td>Centro</td>\n",
       "      <td>1</td>\n",
       "      <td>0</td>\n",
       "      <td>0</td>\n",
       "      <td>15</td>\n",
       "      <td>800.0</td>\n",
       "      <td>390.0</td>\n",
       "      <td>20.0</td>\n",
       "      <td>53.33</td>\n",
       "      <td>Apartamento</td>\n",
       "    </tr>\n",
       "    <tr>\n",
       "      <th>2</th>\n",
       "      <td>Apartamento</td>\n",
       "      <td>Cachambi</td>\n",
       "      <td>2</td>\n",
       "      <td>0</td>\n",
       "      <td>0</td>\n",
       "      <td>50</td>\n",
       "      <td>1300.0</td>\n",
       "      <td>301.0</td>\n",
       "      <td>17.0</td>\n",
       "      <td>26.00</td>\n",
       "      <td>Apartamento</td>\n",
       "    </tr>\n",
       "    <tr>\n",
       "      <th>3</th>\n",
       "      <td>Apartamento</td>\n",
       "      <td>Grajaú</td>\n",
       "      <td>2</td>\n",
       "      <td>1</td>\n",
       "      <td>0</td>\n",
       "      <td>70</td>\n",
       "      <td>1500.0</td>\n",
       "      <td>642.0</td>\n",
       "      <td>74.0</td>\n",
       "      <td>21.43</td>\n",
       "      <td>Apartamento</td>\n",
       "    </tr>\n",
       "    <tr>\n",
       "      <th>4</th>\n",
       "      <td>Apartamento</td>\n",
       "      <td>Lins de Vasconcelos</td>\n",
       "      <td>3</td>\n",
       "      <td>1</td>\n",
       "      <td>1</td>\n",
       "      <td>90</td>\n",
       "      <td>1500.0</td>\n",
       "      <td>455.0</td>\n",
       "      <td>14.0</td>\n",
       "      <td>16.67</td>\n",
       "      <td>Apartamento</td>\n",
       "    </tr>\n",
       "    <tr>\n",
       "      <th>5</th>\n",
       "      <td>Apartamento</td>\n",
       "      <td>Copacabana</td>\n",
       "      <td>1</td>\n",
       "      <td>0</td>\n",
       "      <td>1</td>\n",
       "      <td>40</td>\n",
       "      <td>2000.0</td>\n",
       "      <td>561.0</td>\n",
       "      <td>50.0</td>\n",
       "      <td>50.00</td>\n",
       "      <td>Apartamento</td>\n",
       "    </tr>\n",
       "    <tr>\n",
       "      <th>6</th>\n",
       "      <td>Apartamento</td>\n",
       "      <td>Copacabana</td>\n",
       "      <td>4</td>\n",
       "      <td>3</td>\n",
       "      <td>1</td>\n",
       "      <td>243</td>\n",
       "      <td>13000.0</td>\n",
       "      <td>2000.0</td>\n",
       "      <td>803.0</td>\n",
       "      <td>53.50</td>\n",
       "      <td>Apartamento</td>\n",
       "    </tr>\n",
       "    <tr>\n",
       "      <th>7</th>\n",
       "      <td>Apartamento</td>\n",
       "      <td>Freguesia (Jacarepaguá)</td>\n",
       "      <td>3</td>\n",
       "      <td>0</td>\n",
       "      <td>0</td>\n",
       "      <td>54</td>\n",
       "      <td>950.0</td>\n",
       "      <td>300.0</td>\n",
       "      <td>28.0</td>\n",
       "      <td>17.59</td>\n",
       "      <td>Apartamento</td>\n",
       "    </tr>\n",
       "    <tr>\n",
       "      <th>8</th>\n",
       "      <td>Apartamento</td>\n",
       "      <td>Barra da Tijuca</td>\n",
       "      <td>2</td>\n",
       "      <td>1</td>\n",
       "      <td>1</td>\n",
       "      <td>67</td>\n",
       "      <td>1700.0</td>\n",
       "      <td>589.0</td>\n",
       "      <td>147.0</td>\n",
       "      <td>25.37</td>\n",
       "      <td>Apartamento</td>\n",
       "    </tr>\n",
       "    <tr>\n",
       "      <th>9</th>\n",
       "      <td>Apartamento</td>\n",
       "      <td>Tijuca</td>\n",
       "      <td>2</td>\n",
       "      <td>1</td>\n",
       "      <td>0</td>\n",
       "      <td>110</td>\n",
       "      <td>1900.0</td>\n",
       "      <td>700.0</td>\n",
       "      <td>138.0</td>\n",
       "      <td>17.27</td>\n",
       "      <td>Apartamento</td>\n",
       "    </tr>\n",
       "  </tbody>\n",
       "</table>\n",
       "</div>"
      ],
      "text/plain": [
       "          Tipo                   Bairro  Quartos  Vagas  Suites  Area  \\\n",
       "0    Quitinete               Copacabana        1      0       0    40   \n",
       "1  Apartamento                   Centro        1      0       0    15   \n",
       "2  Apartamento                 Cachambi        2      0       0    50   \n",
       "3  Apartamento                   Grajaú        2      1       0    70   \n",
       "4  Apartamento      Lins de Vasconcelos        3      1       1    90   \n",
       "5  Apartamento               Copacabana        1      0       1    40   \n",
       "6  Apartamento               Copacabana        4      3       1   243   \n",
       "7  Apartamento  Freguesia (Jacarepaguá)        3      0       0    54   \n",
       "8  Apartamento          Barra da Tijuca        2      1       1    67   \n",
       "9  Apartamento                   Tijuca        2      1       0   110   \n",
       "\n",
       "     Valor  Condominio   IPTU  Valor m2 Tipo Agregado  \n",
       "0   1700.0       500.0   60.0     42.50   Apartamento  \n",
       "1    800.0       390.0   20.0     53.33   Apartamento  \n",
       "2   1300.0       301.0   17.0     26.00   Apartamento  \n",
       "3   1500.0       642.0   74.0     21.43   Apartamento  \n",
       "4   1500.0       455.0   14.0     16.67   Apartamento  \n",
       "5   2000.0       561.0   50.0     50.00   Apartamento  \n",
       "6  13000.0      2000.0  803.0     53.50   Apartamento  \n",
       "7    950.0       300.0   28.0     17.59   Apartamento  \n",
       "8   1700.0       589.0  147.0     25.37   Apartamento  \n",
       "9   1900.0       700.0  138.0     17.27   Apartamento  "
      ]
     },
     "execution_count": 30,
     "metadata": {},
     "output_type": "execute_result"
    }
   ],
   "source": [
    "dados.head(10)"
   ]
  },
  {
   "cell_type": "code",
   "execution_count": 31,
   "id": "634493ec",
   "metadata": {},
   "outputs": [
    {
     "data": {
      "text/plain": [
       "5240.800573796621"
      ]
     },
     "execution_count": 31,
     "metadata": {},
     "output_type": "execute_result"
    }
   ],
   "source": [
    "dados['Valor'].mean()"
   ]
  },
  {
   "cell_type": "code",
   "execution_count": 32,
   "id": "7cb45132",
   "metadata": {},
   "outputs": [],
   "source": [
    "bairros = ['Barra da Tijuca', 'Copacabana', 'Ipanema', 'Leblon', 'Botafogo', 'Flamengo', 'Tijuca']\n",
    "selecao = dados['Bairro'].isin(bairros)\n",
    "dados = dados[selecao]"
   ]
  },
  {
   "cell_type": "code",
   "execution_count": 33,
   "id": "ca9cd932",
   "metadata": {},
   "outputs": [
    {
     "data": {
      "text/plain": [
       "0          Copacabana\n",
       "8     Barra da Tijuca\n",
       "9              Tijuca\n",
       "10            Ipanema\n",
       "15             Leblon\n",
       "33           Botafogo\n",
       "55           Flamengo\n",
       "Name: Bairro, dtype: object"
      ]
     },
     "execution_count": 33,
     "metadata": {},
     "output_type": "execute_result"
    }
   ],
   "source": [
    "dados['Bairro'].drop_duplicates()"
   ]
  },
  {
   "cell_type": "code",
   "execution_count": 34,
   "id": "8ba76041",
   "metadata": {},
   "outputs": [],
   "source": [
    "grupo_bairro = dados.groupby('Bairro')"
   ]
  },
  {
   "cell_type": "code",
   "execution_count": 35,
   "id": "951e1120",
   "metadata": {},
   "outputs": [
    {
     "data": {
      "text/plain": [
       "pandas.core.groupby.generic.DataFrameGroupBy"
      ]
     },
     "execution_count": 35,
     "metadata": {},
     "output_type": "execute_result"
    }
   ],
   "source": [
    "type(grupo_bairro)"
   ]
  },
  {
   "cell_type": "code",
   "execution_count": 36,
   "id": "d8c373fc",
   "metadata": {},
   "outputs": [
    {
     "data": {
      "text/plain": [
       "{'Barra da Tijuca': [8, 12, 18, 20, 21, 28, 41, 42, 45, 48, 51, 56, 66, 76, 78, 80, 85, 99, 102, 110, 112, 113, 119, 120, 126, 135, 137, 151, 162, 165, 173, 190, 192, 200, 209, 210, 215, 220, 223, 235, 241, 242, 250, 259, 264, 267, 273, 279, 289, 298, 314, 315, 316, 317, 319, 327, 328, 337, 339, 345, 346, 353, 361, 367, 370, 378, 399, 400, 401, 402, 405, 409, 411, 412, 413, 434, 437, 438, 440, 444, 445, 449, 456, 471, 472, 475, 488, 489, 495, 496, 504, 509, 518, 521, 522, 524, 530, 534, 536, 539, ...], 'Botafogo': [33, 61, 62, 79, 87, 95, 101, 142, 146, 240, 261, 301, 302, 365, 389, 390, 404, 443, 485, 511, 565, 572, 616, 621, 684, 691, 695, 752, 777, 804, 819, 822, 829, 840, 859, 888, 892, 906, 929, 953, 963, 1026, 1050, 1054, 1079, 1138, 1178, 1212, 1228, 1240, 1264, 1356, 1359, 1378, 1425, 1432, 1451, 1462, 1467, 1475, 1503, 1534, 1536, 1542, 1543, 1544, 1553, 1590, 1591, 1615, 1627, 1663, 1700, 1738, 1757, 1766, 1777, 1791, 1793, 1822, 1854, 1864, 1875, 1913, 1967, 2037, 2045, 2073, 2092, 2147, 2157, 2200, 2232, 2251, 2281, 2302, 2310, 2349, 2367, 2407, ...], 'Copacabana': [0, 5, 6, 13, 14, 16, 19, 64, 73, 77, 93, 97, 104, 106, 111, 118, 133, 140, 150, 164, 183, 191, 201, 204, 207, 208, 219, 230, 237, 238, 252, 258, 263, 265, 280, 285, 292, 309, 334, 354, 355, 356, 364, 394, 395, 397, 414, 418, 425, 457, 460, 486, 493, 497, 498, 505, 513, 515, 520, 525, 535, 547, 552, 604, 618, 627, 652, 659, 669, 672, 678, 681, 686, 687, 688, 689, 696, 713, 722, 741, 759, 769, 772, 773, 779, 792, 802, 803, 810, 826, 835, 843, 844, 850, 852, 857, 858, 866, 868, 880, ...], 'Flamengo': [55, 103, 160, 206, 232, 251, 257, 260, 283, 307, 312, 321, 347, 403, 431, 464, 544, 571, 642, 663, 667, 674, 725, 817, 830, 837, 895, 917, 922, 1039, 1041, 1119, 1124, 1134, 1143, 1151, 1192, 1193, 1248, 1261, 1304, 1370, 1390, 1463, 1485, 1509, 1643, 1675, 1682, 1710, 1724, 1751, 1786, 1814, 1872, 1873, 1879, 1882, 1904, 1925, 1947, 1999, 2006, 2011, 2051, 2054, 2119, 2131, 2167, 2179, 2191, 2235, 2265, 2277, 2295, 2304, 2328, 2385, 2401, 2473, 2478, 2494, 2501, 2558, 2574, 2630, 2654, 2697, 2711, 2725, 2791, 2808, 2814, 2824, 2833, 2869, 2901, 2951, 2968, 2991, ...], 'Ipanema': [10, 25, 26, 30, 37, 50, 60, 65, 82, 89, 96, 105, 115, 128, 129, 158, 159, 169, 177, 179, 195, 236, 244, 246, 270, 282, 293, 323, 351, 357, 382, 388, 398, 421, 426, 427, 428, 430, 439, 441, 459, 467, 484, 490, 499, 507, 516, 531, 533, 538, 543, 548, 558, 559, 564, 566, 581, 591, 598, 605, 607, 611, 623, 644, 645, 656, 676, 677, 690, 694, 703, 714, 737, 739, 744, 754, 763, 766, 771, 781, 782, 784, 786, 789, 791, 809, 812, 818, 820, 861, 864, 870, 878, 884, 886, 890, 904, 911, 915, 933, ...], 'Leblon': [15, 40, 63, 69, 83, 100, 117, 121, 124, 156, 161, 182, 226, 234, 254, 255, 284, 295, 306, 322, 335, 338, 340, 344, 363, 368, 376, 385, 407, 446, 447, 476, 477, 492, 512, 526, 549, 561, 578, 583, 613, 622, 632, 650, 653, 673, 699, 707, 718, 723, 785, 790, 795, 796, 798, 801, 842, 856, 860, 881, 891, 893, 898, 949, 950, 968, 969, 993, 995, 1015, 1045, 1048, 1051, 1061, 1135, 1146, 1156, 1162, 1183, 1185, 1209, 1236, 1238, 1243, 1254, 1281, 1294, 1295, 1300, 1302, 1312, 1328, 1405, 1410, 1457, 1459, 1464, 1465, 1471, 1477, ...], 'Tijuca': [9, 11, 57, 58, 94, 107, 127, 131, 134, 143, 148, 189, 243, 247, 256, 318, 343, 349, 371, 380, 391, 420, 448, 470, 474, 502, 553, 555, 556, 587, 590, 593, 594, 606, 628, 630, 638, 654, 662, 692, 709, 726, 740, 742, 761, 824, 885, 939, 948, 1017, 1067, 1081, 1098, 1141, 1164, 1166, 1174, 1218, 1231, 1247, 1265, 1266, 1283, 1298, 1319, 1326, 1353, 1362, 1365, 1387, 1394, 1418, 1420, 1447, 1460, 1472, 1474, 1492, 1493, 1531, 1533, 1564, 1569, 1571, 1610, 1618, 1626, 1628, 1641, 1708, 1714, 1773, 1811, 1835, 1857, 1885, 1899, 1909, 1978, 2012, ...]}"
      ]
     },
     "execution_count": 36,
     "metadata": {},
     "output_type": "execute_result"
    }
   ],
   "source": [
    "grupo_bairro.groups"
   ]
  },
  {
   "cell_type": "code",
   "execution_count": 37,
   "id": "86a5e6f5",
   "metadata": {},
   "outputs": [
    {
     "name": "stdout",
     "output_type": "stream",
     "text": [
      "Barra da Tijuca -> 7218.256578947368\n",
      "Botafogo -> 3735.0679190751443\n",
      "Copacabana -> 4283.542502387774\n",
      "Flamengo -> 4133.692857142857\n",
      "Ipanema -> 9166.298568507158\n",
      "Leblon -> 8647.735408560311\n",
      "Tijuca -> 2039.3006711409396\n"
     ]
    }
   ],
   "source": [
    "for bairro, data in grupo_bairro:\n",
    "    print('{} -> {}'.format(bairro, data.Valor.mean()))"
   ]
  },
  {
   "cell_type": "code",
   "execution_count": 38,
   "id": "6b1f962e",
   "metadata": {},
   "outputs": [
    {
     "data": {
      "text/html": [
       "<div>\n",
       "<style scoped>\n",
       "    .dataframe tbody tr th:only-of-type {\n",
       "        vertical-align: middle;\n",
       "    }\n",
       "\n",
       "    .dataframe tbody tr th {\n",
       "        vertical-align: top;\n",
       "    }\n",
       "\n",
       "    .dataframe thead th {\n",
       "        text-align: right;\n",
       "    }\n",
       "</style>\n",
       "<table border=\"1\" class=\"dataframe\">\n",
       "  <thead>\n",
       "    <tr style=\"text-align: right;\">\n",
       "      <th></th>\n",
       "      <th>Valor</th>\n",
       "      <th>Condominio</th>\n",
       "    </tr>\n",
       "    <tr>\n",
       "      <th>Bairro</th>\n",
       "      <th></th>\n",
       "      <th></th>\n",
       "    </tr>\n",
       "  </thead>\n",
       "  <tbody>\n",
       "    <tr>\n",
       "      <th>Barra da Tijuca</th>\n",
       "      <td>7218.26</td>\n",
       "      <td>4111.04</td>\n",
       "    </tr>\n",
       "    <tr>\n",
       "      <th>Botafogo</th>\n",
       "      <td>3735.07</td>\n",
       "      <td>1020.39</td>\n",
       "    </tr>\n",
       "    <tr>\n",
       "      <th>Copacabana</th>\n",
       "      <td>4283.54</td>\n",
       "      <td>1187.74</td>\n",
       "    </tr>\n",
       "    <tr>\n",
       "      <th>Flamengo</th>\n",
       "      <td>4133.69</td>\n",
       "      <td>1111.78</td>\n",
       "    </tr>\n",
       "    <tr>\n",
       "      <th>Ipanema</th>\n",
       "      <td>9166.30</td>\n",
       "      <td>2226.34</td>\n",
       "    </tr>\n",
       "    <tr>\n",
       "      <th>Leblon</th>\n",
       "      <td>8647.74</td>\n",
       "      <td>2126.39</td>\n",
       "    </tr>\n",
       "    <tr>\n",
       "      <th>Tijuca</th>\n",
       "      <td>2039.30</td>\n",
       "      <td>721.77</td>\n",
       "    </tr>\n",
       "  </tbody>\n",
       "</table>\n",
       "</div>"
      ],
      "text/plain": [
       "                   Valor  Condominio\n",
       "Bairro                              \n",
       "Barra da Tijuca  7218.26     4111.04\n",
       "Botafogo         3735.07     1020.39\n",
       "Copacabana       4283.54     1187.74\n",
       "Flamengo         4133.69     1111.78\n",
       "Ipanema          9166.30     2226.34\n",
       "Leblon           8647.74     2126.39\n",
       "Tijuca           2039.30      721.77"
      ]
     },
     "execution_count": 38,
     "metadata": {},
     "output_type": "execute_result"
    }
   ],
   "source": [
    "grupo_bairro[['Valor', 'Condominio']].mean().round(2)"
   ]
  },
  {
   "cell_type": "markdown",
   "id": "47021350",
   "metadata": {},
   "source": [
    "## Estatísticas Descritivas"
   ]
  },
  {
   "cell_type": "code",
   "execution_count": 39,
   "id": "2cc333f4",
   "metadata": {},
   "outputs": [
    {
     "data": {
      "text/html": [
       "<div>\n",
       "<style scoped>\n",
       "    .dataframe tbody tr th:only-of-type {\n",
       "        vertical-align: middle;\n",
       "    }\n",
       "\n",
       "    .dataframe tbody tr th {\n",
       "        vertical-align: top;\n",
       "    }\n",
       "\n",
       "    .dataframe thead th {\n",
       "        text-align: right;\n",
       "    }\n",
       "</style>\n",
       "<table border=\"1\" class=\"dataframe\">\n",
       "  <thead>\n",
       "    <tr style=\"text-align: right;\">\n",
       "      <th></th>\n",
       "      <th>count</th>\n",
       "      <th>mean</th>\n",
       "      <th>std</th>\n",
       "      <th>min</th>\n",
       "      <th>25%</th>\n",
       "      <th>50%</th>\n",
       "      <th>75%</th>\n",
       "      <th>max</th>\n",
       "    </tr>\n",
       "    <tr>\n",
       "      <th>Bairro</th>\n",
       "      <th></th>\n",
       "      <th></th>\n",
       "      <th></th>\n",
       "      <th></th>\n",
       "      <th></th>\n",
       "      <th></th>\n",
       "      <th></th>\n",
       "      <th></th>\n",
       "    </tr>\n",
       "  </thead>\n",
       "  <tbody>\n",
       "    <tr>\n",
       "      <th>Barra da Tijuca</th>\n",
       "      <td>3040.0</td>\n",
       "      <td>7218.26</td>\n",
       "      <td>12853.61</td>\n",
       "      <td>850.0</td>\n",
       "      <td>2600.0</td>\n",
       "      <td>4600.0</td>\n",
       "      <td>9000.0</td>\n",
       "      <td>600000.0</td>\n",
       "    </tr>\n",
       "    <tr>\n",
       "      <th>Botafogo</th>\n",
       "      <td>692.0</td>\n",
       "      <td>3735.07</td>\n",
       "      <td>2728.84</td>\n",
       "      <td>700.0</td>\n",
       "      <td>2287.5</td>\n",
       "      <td>3200.0</td>\n",
       "      <td>4412.5</td>\n",
       "      <td>25000.0</td>\n",
       "    </tr>\n",
       "    <tr>\n",
       "      <th>Copacabana</th>\n",
       "      <td>2094.0</td>\n",
       "      <td>4283.54</td>\n",
       "      <td>3746.95</td>\n",
       "      <td>700.0</td>\n",
       "      <td>2000.0</td>\n",
       "      <td>3000.0</td>\n",
       "      <td>5000.0</td>\n",
       "      <td>35000.0</td>\n",
       "    </tr>\n",
       "    <tr>\n",
       "      <th>Flamengo</th>\n",
       "      <td>560.0</td>\n",
       "      <td>4133.69</td>\n",
       "      <td>3786.80</td>\n",
       "      <td>800.0</td>\n",
       "      <td>2000.0</td>\n",
       "      <td>2990.0</td>\n",
       "      <td>5000.0</td>\n",
       "      <td>35000.0</td>\n",
       "    </tr>\n",
       "    <tr>\n",
       "      <th>Ipanema</th>\n",
       "      <td>1467.0</td>\n",
       "      <td>9166.30</td>\n",
       "      <td>8036.35</td>\n",
       "      <td>1200.0</td>\n",
       "      <td>4500.0</td>\n",
       "      <td>6900.0</td>\n",
       "      <td>10500.0</td>\n",
       "      <td>90000.0</td>\n",
       "    </tr>\n",
       "    <tr>\n",
       "      <th>Leblon</th>\n",
       "      <td>1028.0</td>\n",
       "      <td>8647.74</td>\n",
       "      <td>6304.48</td>\n",
       "      <td>1500.0</td>\n",
       "      <td>4500.0</td>\n",
       "      <td>7000.0</td>\n",
       "      <td>10500.0</td>\n",
       "      <td>55000.0</td>\n",
       "    </tr>\n",
       "    <tr>\n",
       "      <th>Tijuca</th>\n",
       "      <td>745.0</td>\n",
       "      <td>2039.30</td>\n",
       "      <td>1772.71</td>\n",
       "      <td>750.0</td>\n",
       "      <td>1500.0</td>\n",
       "      <td>1800.0</td>\n",
       "      <td>2300.0</td>\n",
       "      <td>45000.0</td>\n",
       "    </tr>\n",
       "  </tbody>\n",
       "</table>\n",
       "</div>"
      ],
      "text/plain": [
       "                  count     mean       std     min     25%     50%      75%  \\\n",
       "Bairro                                                                        \n",
       "Barra da Tijuca  3040.0  7218.26  12853.61   850.0  2600.0  4600.0   9000.0   \n",
       "Botafogo          692.0  3735.07   2728.84   700.0  2287.5  3200.0   4412.5   \n",
       "Copacabana       2094.0  4283.54   3746.95   700.0  2000.0  3000.0   5000.0   \n",
       "Flamengo          560.0  4133.69   3786.80   800.0  2000.0  2990.0   5000.0   \n",
       "Ipanema          1467.0  9166.30   8036.35  1200.0  4500.0  6900.0  10500.0   \n",
       "Leblon           1028.0  8647.74   6304.48  1500.0  4500.0  7000.0  10500.0   \n",
       "Tijuca            745.0  2039.30   1772.71   750.0  1500.0  1800.0   2300.0   \n",
       "\n",
       "                      max  \n",
       "Bairro                     \n",
       "Barra da Tijuca  600000.0  \n",
       "Botafogo          25000.0  \n",
       "Copacabana        35000.0  \n",
       "Flamengo          35000.0  \n",
       "Ipanema           90000.0  \n",
       "Leblon            55000.0  \n",
       "Tijuca            45000.0  "
      ]
     },
     "execution_count": 39,
     "metadata": {},
     "output_type": "execute_result"
    }
   ],
   "source": [
    "grupo_bairro['Valor'].describe().round(2)"
   ]
  },
  {
   "cell_type": "code",
   "execution_count": 40,
   "id": "3541612d",
   "metadata": {},
   "outputs": [
    {
     "data": {
      "text/html": [
       "<div>\n",
       "<style scoped>\n",
       "    .dataframe tbody tr th:only-of-type {\n",
       "        vertical-align: middle;\n",
       "    }\n",
       "\n",
       "    .dataframe tbody tr th {\n",
       "        vertical-align: top;\n",
       "    }\n",
       "\n",
       "    .dataframe thead th {\n",
       "        text-align: right;\n",
       "    }\n",
       "</style>\n",
       "<table border=\"1\" class=\"dataframe\">\n",
       "  <thead>\n",
       "    <tr style=\"text-align: right;\">\n",
       "      <th></th>\n",
       "      <th>Mínimo</th>\n",
       "      <th>Máximo</th>\n",
       "    </tr>\n",
       "    <tr>\n",
       "      <th>Bairro</th>\n",
       "      <th></th>\n",
       "      <th></th>\n",
       "    </tr>\n",
       "  </thead>\n",
       "  <tbody>\n",
       "    <tr>\n",
       "      <th>Barra da Tijuca</th>\n",
       "      <td>850.0</td>\n",
       "      <td>600000.0</td>\n",
       "    </tr>\n",
       "    <tr>\n",
       "      <th>Botafogo</th>\n",
       "      <td>700.0</td>\n",
       "      <td>25000.0</td>\n",
       "    </tr>\n",
       "    <tr>\n",
       "      <th>Copacabana</th>\n",
       "      <td>700.0</td>\n",
       "      <td>35000.0</td>\n",
       "    </tr>\n",
       "    <tr>\n",
       "      <th>Flamengo</th>\n",
       "      <td>800.0</td>\n",
       "      <td>35000.0</td>\n",
       "    </tr>\n",
       "    <tr>\n",
       "      <th>Ipanema</th>\n",
       "      <td>1200.0</td>\n",
       "      <td>90000.0</td>\n",
       "    </tr>\n",
       "    <tr>\n",
       "      <th>Leblon</th>\n",
       "      <td>1500.0</td>\n",
       "      <td>55000.0</td>\n",
       "    </tr>\n",
       "    <tr>\n",
       "      <th>Tijuca</th>\n",
       "      <td>750.0</td>\n",
       "      <td>45000.0</td>\n",
       "    </tr>\n",
       "  </tbody>\n",
       "</table>\n",
       "</div>"
      ],
      "text/plain": [
       "                 Mínimo    Máximo\n",
       "Bairro                           \n",
       "Barra da Tijuca   850.0  600000.0\n",
       "Botafogo          700.0   25000.0\n",
       "Copacabana        700.0   35000.0\n",
       "Flamengo          800.0   35000.0\n",
       "Ipanema          1200.0   90000.0\n",
       "Leblon           1500.0   55000.0\n",
       "Tijuca            750.0   45000.0"
      ]
     },
     "execution_count": 40,
     "metadata": {},
     "output_type": "execute_result"
    }
   ],
   "source": [
    "grupo_bairro['Valor'].aggregate(['min', 'max']).rename(columns = {'min':'Mínimo', 'max': 'Máximo'})"
   ]
  },
  {
   "cell_type": "code",
   "execution_count": 41,
   "id": "e1b97be6",
   "metadata": {},
   "outputs": [],
   "source": [
    "%matplotlib inline\n",
    "import matplotlib.pyplot as plt\n",
    "plt.rc('figure', figsize = (20, 10))"
   ]
  },
  {
   "cell_type": "code",
   "execution_count": 44,
   "id": "4e1f5497",
   "metadata": {},
   "outputs": [
    {
     "data": {
      "text/plain": [
       "Text(0.5, 1.0, 'Valor médio do aluguel por bairro')"
      ]
     },
     "execution_count": 44,
     "metadata": {},
     "output_type": "execute_result"
    },
    {
     "data": {
      "image/png": "[encoded data removed]",
      "text/plain": [
       "<Figure size 2000x1000 with 1 Axes>"
      ]
     },
     "metadata": {},
     "output_type": "display_data"
    }
   ],
   "source": [
    "fig = grupo_bairro['Valor'].mean().plot.bar(color='blue')\n",
    "fig.set_ylabel('Valor do Aluguel')\n",
    "fig.set_title('Valor médio do aluguel por bairro', {'fontsize':22})"
   ]
  },
  {
   "cell_type": "code",
   "execution_count": 45,
   "id": "a9c3f838",
   "metadata": {},
   "outputs": [
    {
     "data": {
      "text/plain": [
       "Text(0.5, 1.0, 'Valor médio do aluguel por bairro')"
      ]
     },
     "execution_count": 45,
     "metadata": {},
     "output_type": "execute_result"
    },
    {
     "data": {
      "image/png": "[encoded data removed]",
      "text/plain": [
       "<Figure size 2000x1000 with 1 Axes>"
      ]
     },
     "metadata": {},
     "output_type": "display_data"
    }
   ],
   "source": [
    "fig = grupo_bairro['Valor'].max().plot.bar(color='blue')\n",
    "fig.set_ylabel('Valor do Aluguel')\n",
    "fig.set_title('Valor médio do aluguel por bairro', {'fontsize':22})"
   ]
  },
  {
   "cell_type": "code",
   "execution_count": null,
   "id": "fde8bd23",
   "metadata": {},
   "outputs": [],
   "source": []
  }
 ],
 "metadata": {
  "kernelspec": {
   "display_name": "Python 3 (ipykernel)",
   "language": "python",
   "name": "python3"
  },
  "language_info": {
   "codemirror_mode": {
    "name": "ipython",
    "version": 3
   },
   "file_extension": ".py",
   "mimetype": "text/x-python",
   "name": "python",
   "nbconvert_exporter": "python",
   "pygments_lexer": "ipython3",
   "version": "3.9.13"
  }
 },
 "nbformat": 4,
 "nbformat_minor": 5
}
