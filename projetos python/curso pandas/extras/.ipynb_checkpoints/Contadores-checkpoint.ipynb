{
 "cells": [
  {
   "cell_type": "code",
   "execution_count": 1,
   "id": "2229b437",
   "metadata": {},
   "outputs": [],
   "source": [
    "import pandas as pd"
   ]
  },
  {
   "cell_type": "code",
   "execution_count": 3,
   "id": "91b67955",
   "metadata": {},
   "outputs": [
    {
     "data": {
      "text/plain": [
       "0     a\n",
       "1     h\n",
       "2     d\n",
       "3     a\n",
       "4     i\n",
       "5     d\n",
       "6     h\n",
       "7     a\n",
       "8     y\n",
       "9     i\n",
       "10    s\n",
       "11    g\n",
       "12    d\n",
       "13    a\n",
       "14    j\n",
       "15    l\n",
       "16    d\n",
       "17    h\n",
       "18    s\n",
       "19    c\n",
       "20    h\n",
       "21    l\n",
       "22    a\n",
       "23    s\n",
       "24    j\n",
       "25    b\n",
       "dtype: object"
      ]
     },
     "execution_count": 3,
     "metadata": {},
     "output_type": "execute_result"
    }
   ],
   "source": [
    "s = pd.Series(list('ahdaidhayisgdajldhschlasjb'))\n",
    "s"
   ]
  },
  {
   "cell_type": "code",
   "execution_count": null,
   "id": "360cec1e",
   "metadata": {},
   "outputs": [],
   "source": []
  }
 ],
 "metadata": {
  "kernelspec": {
   "display_name": "Python 3 (ipykernel)",
   "language": "python",
   "name": "python3"
  },
  "language_info": {
   "codemirror_mode": {
    "name": "ipython",
    "version": 3
   },
   "file_extension": ".py",
   "mimetype": "text/x-python",
   "name": "python",
   "nbconvert_exporter": "python",
   "pygments_lexer": "ipython3",
   "version": "3.9.13"
  }
 },
 "nbformat": 4,
 "nbformat_minor": 5
}
